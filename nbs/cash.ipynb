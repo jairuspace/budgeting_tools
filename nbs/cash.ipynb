{
 "cells": [
  {
   "cell_type": "code",
   "execution_count": null,
   "metadata": {},
   "outputs": [],
   "source": [
    "# | default_exp cash"
   ]
  },
  {
   "cell_type": "code",
   "execution_count": null,
   "metadata": {},
   "outputs": [],
   "source": [
    "from budgeting_tools.ynab_utils import get_budgeted_balance, get_account_balances\n",
    "import os"
   ]
  },
  {
   "cell_type": "code",
   "execution_count": null,
   "metadata": {},
   "outputs": [],
   "source": [
    "balances = get_account_balances()\n",
    "checking_balances = balances.query('type == \"checking\"')\n",
    "creditcard_balances = balances.query('type == \"creditCard\"')\n",
    "savings_balances = balances.query('type == \"savings\"')\n",
    "other_balances = balances.query('type not in [\"checking\", \"creditCard\", \"savings\"]')"
   ]
  },
  {
   "cell_type": "code",
   "execution_count": null,
   "metadata": {},
   "outputs": [],
   "source": [
    "budgeted_balance = get_budgeted_balance(os.environ[\"YNAB_TOKEN\"])"
   ]
  },
  {
   "cell_type": "code",
   "execution_count": null,
   "metadata": {},
   "outputs": [
    {
     "data": {
      "text/plain": [
       "-963.9400000000005"
      ]
     },
     "execution_count": null,
     "metadata": {},
     "output_type": "execute_result"
    }
   ],
   "source": [
    "budgeted_balance - checking_balances[\"balance\"].sum() / 1000"
   ]
  },
  {
   "cell_type": "code",
   "execution_count": null,
   "metadata": {},
   "outputs": [],
   "source": [
    "import datetime\n",
    "import requests\n",
    "import pandas as pd\n",
    "import json\n",
    "\n",
    "\n",
    "def calc_savings_transfer(token):\n",
    "    saving_groups = [\n",
    "        \"394b0df3-9457-4a5d-913c-72ba3868dc64\",\n",
    "        \"db3dbf9f-91c8-4ec8-9b49-847570e5e5dc\",\n",
    "    ]\n",
    "    date = datetime.datetime.strftime(datetime.datetime.now(), \"%Y-%m\") + \"-01\"\n",
    "    month = requests.get(\n",
    "        f\"https://api.youneedabudget.com/v1/budgets/last-used/months/{date}?access_token={token}\"\n",
    "    )\n",
    "    income = json.loads(month.content)[\"data\"][\"month\"][\"to_be_budgeted\"] / 1000\n",
    "    category_balances = pd.DataFrame(\n",
    "        json.loads(month.content)[\"data\"][\"month\"][\"categories\"]\n",
    "    )\n",
    "    category_balances[\"balance\"] = category_balances[\"balance\"].apply(\n",
    "        lambda x: x / 1000\n",
    "    )\n",
    "    category_balances = category_balances[category_balances.balance > 0]\n",
    "    category_balances = category_balances[\n",
    "        category_balances.name != \"Inflow: Ready to Assign\"\n",
    "    ]\n",
    "    cash_accounts = category_balances[\n",
    "        ~category_balances.category_group_id.isin(saving_groups)\n",
    "    ]\n",
    "    required_cash = income + cash_accounts.balance.sum()\n",
    "    accounts = requests.get(\n",
    "        f\"https://api.youneedabudget.com/v1/budgets/last-used/accounts?access_token={token}\"\n",
    "    )\n",
    "    accounts = pd.DataFrame(json.loads(accounts.content)[\"data\"][\"accounts\"])\n",
    "    checking_balance = accounts.query(\"name == 'MACU Checking'\").balance[0] / 1000\n",
    "    transfer = checking_balance - required_cash\n",
    "    if transfer > 0:\n",
    "        print(f\"You should transfer ${transfer} from MACU Checking to Savings\")\n",
    "    else:\n",
    "        print(f\"You should transfer ${transfer * -1} from Savings to MACU Checking\")\n",
    "    return transfer, required_cash"
   ]
  },
  {
   "cell_type": "code",
   "execution_count": null,
   "metadata": {},
   "outputs": [
    {
     "name": "stdout",
     "output_type": "stream",
     "text": [
      "You should transfer $963.9400000000005 from MACU Checking to Savings\n"
     ]
    },
    {
     "data": {
      "text/plain": [
       "(963.9400000000005, 14492.32)"
      ]
     },
     "execution_count": null,
     "metadata": {},
     "output_type": "execute_result"
    }
   ],
   "source": [
    "calc_savings_transfer(os.environ[\"YNAB_TOKEN\"])"
   ]
  },
  {
   "cell_type": "code",
   "execution_count": null,
   "metadata": {},
   "outputs": [],
   "source": []
  }
 ],
 "metadata": {
  "kernelspec": {
   "display_name": "python3",
   "language": "python",
   "name": "python3"
  },
  "language_info": {
   "name": "python",
   "version": "3.10.2"
  }
 },
 "nbformat": 4,
 "nbformat_minor": 2
}
