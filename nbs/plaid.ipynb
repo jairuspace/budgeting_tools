{
 "cells": [
  {
   "cell_type": "code",
   "execution_count": 1,
   "metadata": {},
   "outputs": [],
   "source": [
    "import plaid\n",
    "import os"
   ]
  },
  {
   "cell_type": "code",
   "execution_count": null,
   "metadata": {},
   "outputs": [],
   "source": [
    "client_id = os.environ[\"PLAID_CLIENT_ID\"]\n",
    "secret = os.environ[\"PLAID_SECRET\"]"
   ]
  },
  {
   "cell_type": "code",
   "execution_count": null,
   "metadata": {},
   "outputs": [],
   "source": [
    "configuration = plaid.Configuration(\n",
    "    host=plaid.Environment.Sandbox,\n",
    "    api_key={\n",
    "        \"clientId\": client_id,\n",
    "        \"secret\": secret,\n",
    "    },\n",
    ")\n",
    "\n",
    "api_client = plaid.ApiClient(configuration)\n",
    "client = plaid_api.PlaidApi(api_client)"
   ]
  },
  {
   "cell_type": "code",
   "execution_count": null,
   "metadata": {},
   "outputs": [],
   "source": [
    "link_token_response = client.LinkToken.create(\n",
    "    {\n",
    "        \"user\": {\n",
    "            \"client_user_id\": \"unique-user-id\",\n",
    "        },\n",
    "        \"client_name\": \"Your App Name\",\n",
    "        \"products\": [\"auth\", \"investments\"],\n",
    "        \"country_codes\": [\"US\"],\n",
    "        \"language\": \"en\",\n",
    "    }\n",
    ")"
   ]
  },
  {
   "cell_type": "code",
   "execution_count": null,
   "metadata": {},
   "outputs": [],
   "source": [
    "exchange_token_response = client.Item.public_token.exchange(\n",
    "    {\n",
    "        \"public_token\": \"PUBLIC_TOKEN_RECEIVED_FROM_USER\",\n",
    "    }\n",
    ")\n",
    "access_token = exchange_token_response[\"access_token\"]"
   ]
  },
  {
   "cell_type": "code",
   "execution_count": null,
   "metadata": {},
   "outputs": [],
   "source": [
    "accounts_response = client.Accounts.get(access_token)\n",
    "holdings_response = client.Investments.holdings.get(access_token)"
   ]
  }
 ],
 "metadata": {
  "kernelspec": {
   "display_name": "Python 3",
   "language": "python",
   "name": "python3"
  },
  "language_info": {
   "codemirror_mode": {
    "name": "ipython",
    "version": 3
   },
   "file_extension": ".py",
   "mimetype": "text/x-python",
   "name": "python",
   "nbconvert_exporter": "python",
   "pygments_lexer": "ipython3",
   "version": "3.10.2"
  },
  "orig_nbformat": 4
 },
 "nbformat": 4,
 "nbformat_minor": 2
}
