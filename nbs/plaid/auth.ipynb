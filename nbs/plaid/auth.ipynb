{
 "cells": [
  {
   "cell_type": "markdown",
   "metadata": {},
   "source": [
    "# Plaid Auth\n",
    "This module contains the code to authenticate with Plaid and retrieve the access\n",
    "token you need to make API calls as well as the public token you need to\n",
    "retrieve the access token."
   ]
  },
  {
   "cell_type": "code",
   "execution_count": null,
   "metadata": {},
   "outputs": [],
   "source": [
    "# | default_exp auth"
   ]
  },
  {
   "cell_type": "code",
   "execution_count": 7,
   "metadata": {},
   "outputs": [],
   "source": [
    "from plaid.model.link_token_create_request import LinkTokenCreateRequest\n",
    "import json\n",
    "from plaid.model.products import Products\n",
    "from plaid.model.country_code import CountryCode\n",
    "from plaid.model.link_token_create_request_user import LinkTokenCreateRequestUser\n",
    "import os\n",
    "import time"
   ]
  },
  {
   "cell_type": "code",
   "execution_count": null,
   "metadata": {},
   "outputs": [],
   "source": [
    "os."
   ]
  },
  {
   "cell_type": "code",
   "execution_count": null,
   "metadata": {},
   "outputs": [],
   "source": [
    "configuration = plaid.Configuration(\n",
    "    host=host,\n",
    "    api_key={\n",
    "        \"clientId\": os.getenv(PLAID_CLIENT_ID),\n",
    "        \"secret\": PLAID_SECRET,\n",
    "        \"plaidVersion\": \"2020-09-14\",\n",
    "    },\n",
    ")"
   ]
  },
  {
   "cell_type": "code",
   "execution_count": 8,
   "metadata": {},
   "outputs": [],
   "source": [
    "def create_link_token(configuration, PLAID_REDIRECT_URI=None):\n",
    "    products = []\n",
    "    PLAID_PRODUCTS = [\"auth\", \"transactions\"]\n",
    "    for product in PLAID_PRODUCTS:\n",
    "        products.append(Products(product))\n",
    "    request = LinkTokenCreateRequest(\n",
    "        products=products,\n",
    "        client_name=\"Plaid Quickstart\",\n",
    "        country_codes=list(map(lambda x: CountryCode(x), [\"US\", \"CA\"])),\n",
    "        language=\"en\",\n",
    "        user=LinkTokenCreateRequestUser(client_user_id=str(time.time())),\n",
    "    )\n",
    "    if PLAID_REDIRECT_URI != None:\n",
    "        request[\"redirect_uri\"] = PLAID_REDIRECT_URI\n",
    "    # create link token\n",
    "    api_client = plaid.ApiClient(configuration)\n",
    "    client = plaid_api.PlaidApi(api_client)\n",
    "    response = client.link_token_create(request)\n",
    "    return response.to_dict()"
   ]
  },
  {
   "cell_type": "code",
   "execution_count": 9,
   "metadata": {},
   "outputs": [
    {
     "ename": "NameError",
     "evalue": "name 'client' is not defined",
     "output_type": "error",
     "traceback": [
      "\u001b[0;31m---------------------------------------------------------------------------\u001b[0m",
      "\u001b[0;31mNameError\u001b[0m                                 Traceback (most recent call last)",
      "Cell \u001b[0;32mIn[9], line 1\u001b[0m\n\u001b[0;32m----> 1\u001b[0m create_link_token()\n",
      "Cell \u001b[0;32mIn[8], line 16\u001b[0m, in \u001b[0;36mcreate_link_token\u001b[0;34m(PLAID_REDIRECT_URI)\u001b[0m\n\u001b[1;32m     14\u001b[0m     request[\u001b[39m\"\u001b[39m\u001b[39mredirect_uri\u001b[39m\u001b[39m\"\u001b[39m] \u001b[39m=\u001b[39m PLAID_REDIRECT_URI\n\u001b[1;32m     15\u001b[0m \u001b[39m# create link token\u001b[39;00m\n\u001b[0;32m---> 16\u001b[0m response \u001b[39m=\u001b[39m client\u001b[39m.\u001b[39mlink_token_create(request)\n\u001b[1;32m     17\u001b[0m \u001b[39mreturn\u001b[39;00m response\u001b[39m.\u001b[39mto_dict()\n",
      "\u001b[0;31mNameError\u001b[0m: name 'client' is not defined"
     ]
    }
   ],
   "source": [
    "create_link_token()"
   ]
  },
  {
   "cell_type": "code",
   "execution_count": null,
   "metadata": {},
   "outputs": [],
   "source": [
    "def get_access_token():\n",
    "    global access_token\n",
    "    global item_id\n",
    "    global transfer_id\n",
    "    public_token = request.form[\"public_token\"]\n",
    "    try:\n",
    "        exchange_request = ItemPublicTokenExchangeRequest(public_token=public_token)\n",
    "        exchange_response = client.item_public_token_exchange(exchange_request)\n",
    "        access_token = exchange_response[\"access_token\"]\n",
    "        item_id = exchange_response[\"item_id\"]\n",
    "        if \"transfer\" in PLAID_PRODUCTS:\n",
    "            transfer_id = authorize_and_create_transfer(access_token)\n",
    "        return jsonify(exchange_response.to_dict())\n",
    "    except app.ApiException as e:\n",
    "        return json.loads(e.body)\n",
    "\n",
    "\n",
    "def get_auth():\n",
    "    try:\n",
    "        request = AuthGetRequest(access_token=access_token)\n",
    "        response = client.auth_get(request)\n",
    "        pretty_print_response(response.to_dict())\n",
    "        return jsonify(response.to_dict())\n",
    "    except app.ApiException as e:\n",
    "        error_response = format_error(e)\n",
    "        return jsonify(error_response)"
   ]
  }
 ],
 "metadata": {
  "kernelspec": {
   "display_name": "budget",
   "language": "python",
   "name": "python3"
  },
  "language_info": {
   "codemirror_mode": {
    "name": "ipython",
    "version": 3
   },
   "file_extension": ".py",
   "mimetype": "text/x-python",
   "name": "python",
   "nbconvert_exporter": "python",
   "pygments_lexer": "ipython3",
   "version": "3.10.2"
  },
  "orig_nbformat": 4
 },
 "nbformat": 4,
 "nbformat_minor": 2
}
