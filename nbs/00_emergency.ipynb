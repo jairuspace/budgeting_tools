{
 "cells": [
  {
   "attachments": {},
   "cell_type": "markdown",
   "metadata": {},
   "source": [
    "# Emergency\n",
    "Calculate what your emergency fund size should be along with other useful\n",
    "  things related to it."
   ]
  },
  {
   "cell_type": "code",
   "execution_count": null,
   "metadata": {},
   "outputs": [],
   "source": [
    "# | default_exp emergency\n"
   ]
  },
  {
   "attachments": {},
   "cell_type": "markdown",
   "metadata": {},
   "source": [
    "### Set your `YNAB_TOKEN` environment variable\n",
    "We'll need a token to access our YNAB account.  To get this you'll need to go\n",
    "into your YNAB account and get one.  Then set it as an environment variable."
   ]
  },
  {
   "cell_type": "code",
   "execution_count": 4,
   "metadata": {},
   "outputs": [],
   "source": [
    "import os\n",
    "\n",
    "token = os.getenv(\"YNAB_TOKEN\")"
   ]
  },
  {
   "attachments": {},
   "cell_type": "markdown",
   "metadata": {},
   "source": [
    "### Pull down some transactions"
   ]
  },
  {
   "cell_type": "code",
   "execution_count": null,
   "metadata": {},
   "outputs": [],
   "source": [
    "# | export\n",
    "from budgeting_tools.budget_utils import (\n",
    "    get_transactions,\n",
    "    get_avg_monthly_spend,\n",
    "    get_cash_balance,\n",
    "    get_budgeted_balance,\n",
    ")\n"
   ]
  },
  {
   "cell_type": "code",
   "execution_count": 7,
   "metadata": {},
   "outputs": [],
   "source": [
    "trans_df = get_transactions(token, 3)"
   ]
  },
  {
   "cell_type": "code",
   "execution_count": 8,
   "metadata": {},
   "outputs": [
    {
     "data": {
      "text/plain": [
       "Index(['id', 'date', 'amount', 'memo', 'cleared', 'approved', 'flag_color',\n",
       "       'account_id', 'account_name', 'payee_id', 'payee_name', 'category_id',\n",
       "       'category_name', 'transfer_account_id', 'transfer_transaction_id',\n",
       "       'matched_transaction_id', 'import_id', 'import_payee_name',\n",
       "       'import_payee_name_original', 'debt_transaction_type', 'deleted',\n",
       "       'subtransactions', 'month', 'transaction_id'],\n",
       "      dtype='object')"
      ]
     },
     "execution_count": 8,
     "metadata": {},
     "output_type": "execute_result"
    }
   ],
   "source": [
    "trans_df.columns\n"
   ]
  },
  {
   "cell_type": "code",
   "execution_count": 14,
   "metadata": {},
   "outputs": [],
   "source": [
    "essential_categories = [\n",
    "    \"🎉Fun Money\",\n",
    "    \"🍎Groceries\",\n",
    "    \"🏋️Health\",\n",
    "    \"🏦Insurance\",\n",
    "    \"☎️Phone\",\n",
    "    \"🚘Transportation\",\n",
    "    \"⚡️Utilities\",\n",
    "    \"🏡Mortgage\",\n",
    "]\n",
    "monthly_spend = get_avg_monthly_spend(trans_df, essential_categories)\n"
   ]
  },
  {
   "attachments": {},
   "cell_type": "markdown",
   "metadata": {},
   "source": [
    "### Get emergency fund size\n",
    "To get our emergency fund size, we'll just take our average monthly spend on\n",
    "essential categories and multiply it by the number of months we want to have."
   ]
  },
  {
   "cell_type": "code",
   "execution_count": 32,
   "metadata": {},
   "outputs": [
    {
     "name": "stdout",
     "output_type": "stream",
     "text": [
      "Our emergency fund should be $26,295.24\n"
     ]
    }
   ],
   "source": [
    "emergency_fund_months = 6\n",
    "emergency_fund_size = monthly_spend * emergency_fund_months\n",
    "print(f\"Our emergency fund should be ${emergency_fund_size*-1:,.2f}\")"
   ]
  },
  {
   "attachments": {},
   "cell_type": "markdown",
   "metadata": {},
   "source": [
    "### Make sure we have enough in our emergency fund.  Not too much, not too little."
   ]
  },
  {
   "cell_type": "code",
   "execution_count": 31,
   "metadata": {},
   "outputs": [
    {
     "name": "stdout",
     "output_type": "stream",
     "text": [
      "Our total cash balance is $155,571.50\n",
      "Our total budgeted balance is $16,700.95\n"
     ]
    }
   ],
   "source": [
    "cash = get_cash_balance(token)\n",
    "budgeted = get_budgeted_balance(token)\n",
    "# print cash and budgeted and add commas to the numbers\n",
    "print(f\"Our total cash balance is ${cash:,.2f}\")\n",
    "print(f\"Our total budgeted balance is ${budgeted:,.2f}\")"
   ]
  },
  {
   "attachments": {},
   "cell_type": "markdown",
   "metadata": {},
   "source": [
    "Lets make see how much more we need to save to get to our emergency fund size,\n",
    "or how much more we have than we need and should probably invest."
   ]
  },
  {
   "cell_type": "code",
   "execution_count": 36,
   "metadata": {},
   "outputs": [
    {
     "name": "stdout",
     "output_type": "stream",
     "text": [
      "Unbudgeted cash is $138,870.55\n",
      "Fully funded emergency fund.  Move $112,575.31 to a high yield savings account or investment account.\n"
     ]
    }
   ],
   "source": [
    "unbudgeted_cash = cash - budgeted\n",
    "non_emergency_cash = unbudgeted_cash - (emergency_fund_size * -1)\n",
    "\n",
    "print(f\"Unbudgeted cash is ${unbudgeted_cash:,.2f}\")\n",
    "if non_emergency_cash >= 0:\n",
    "    print(\n",
    "        f\"Fully funded emergency fund.  Move ${non_emergency_cash:,.2f} to a high yield savings account or investment account.\"\n",
    "    )\n",
    "else:\n",
    "    print(f\"Save ${non_emergency_cash:,.2f} more to fully fund an emergency fund\")"
   ]
  },
  {
   "cell_type": "code",
   "execution_count": 38,
   "metadata": {},
   "outputs": [],
   "source": [
    "# | export\n",
    "def get_emergency_fund_status(\n",
    "    token, essential_categories, n_months=6, emergency_fund_months=6\n",
    "):\n",
    "    \"\"\"Function to get the status of the emergency fund.  Returns the amount\n",
    "    needed to fully fund the emergency fund or the amount of non-emergency cash\n",
    "    if the emergency fund is fully funded\"\"\"\n",
    "    trans_df = get_transactions(token, n_months)\n",
    "    monthly_spend = get_avg_monthly_spend(trans_df, essential_categories)\n",
    "    cash = get_cash_balance(token)\n",
    "    budgeted = get_budgeted_balance(token)\n",
    "    emergency_fund_size = monthly_spend * emergency_fund_months\n",
    "    unbudgeted_cash = cash - budgeted\n",
    "    non_emergency_cash = unbudgeted_cash - (emergency_fund_size * -1)\n",
    "    return non_emergency_cash"
   ]
  },
  {
   "cell_type": "code",
   "execution_count": 39,
   "metadata": {},
   "outputs": [
    {
     "data": {
      "text/plain": [
       "111786.6"
      ]
     },
     "execution_count": 39,
     "metadata": {},
     "output_type": "execute_result"
    }
   ],
   "source": [
    "get_emergency_fund_status(token, essential_categories, 6, 6)\n"
   ]
  }
 ],
 "metadata": {
  "kernelspec": {
   "display_name": "Python 3",
   "language": "python",
   "name": "python3"
  },
  "language_info": {
   "codemirror_mode": {
    "name": "ipython",
    "version": 3
   },
   "file_extension": ".py",
   "mimetype": "text/x-python",
   "name": "python",
   "nbconvert_exporter": "python",
   "pygments_lexer": "ipython3",
   "version": "3.10.2"
  }
 },
 "nbformat": 4,
 "nbformat_minor": 4
}
