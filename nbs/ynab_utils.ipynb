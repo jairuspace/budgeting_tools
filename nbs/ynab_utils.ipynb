{
 "cells": [
  {
   "attachments": {},
   "cell_type": "markdown",
   "metadata": {},
   "source": [
    "# YNAB API Utils\n"
   ]
  },
  {
   "attachments": {},
   "cell_type": "markdown",
   "metadata": {},
   "source": [
    "This notebook contains a few utility functions for interacting with the YNAB API."
   ]
  },
  {
   "cell_type": "code",
   "execution_count": null,
   "metadata": {},
   "outputs": [],
   "source": [
    "# | default_exp ynab_utils"
   ]
  },
  {
   "cell_type": "code",
   "execution_count": null,
   "metadata": {},
   "outputs": [],
   "source": [
    "# | export\n",
    "import datetime\n",
    "import requests\n",
    "import json\n",
    "import pandas as pd\n",
    "from typing import List\n",
    "from budgeting_tools.utils import monthdelta\n",
    "import os"
   ]
  },
  {
   "cell_type": "code",
   "execution_count": null,
   "metadata": {},
   "outputs": [],
   "source": [
    "# | export\n",
    "def get_transactions(n_months: int) -> pd.DataFrame:\n",
    "    \"\"\"Function to get all transactions from the last N months\"\"\"\n",
    "    token = os.environ[\"YNAB_TOKEN\"]\n",
    "    since_date = datetime.datetime.strftime(\n",
    "        monthdelta(datetime.datetime.now(), -n_months), \"%Y-%m-01\"\n",
    "    )\n",
    "    end_date = datetime.datetime.strftime(\n",
    "        monthdelta(datetime.datetime.now(), -n_months), \"%Y-%m\"\n",
    "    )\n",
    "    response = requests.get(\n",
    "        f\"https://api.youneedabudget.com/v1/budgets/last-used/transactions?access_token={token}&since_date={since_date}\"\n",
    "    )\n",
    "    transactions = json.loads(response.content)[\"data\"][\"transactions\"]\n",
    "    tran_df = pd.DataFrame().from_dict(transactions)\n",
    "    tran_df[\"date\"] = pd.to_datetime(tran_df.date)\n",
    "    tran_df[\"month\"] = tran_df.date.dt.strftime(\"%Y-%m\")\n",
    "    tran_df[\"amount\"] = tran_df.amount / 1000\n",
    "    tran_df = pd.concat(\n",
    "        [\n",
    "            tran_df[~tran_df.category_name.str.contains(\"Split\")],\n",
    "            pd.DataFrame(\n",
    "                list(\n",
    "                    tran_df[tran_df.category_name.str.contains(\"Split\")][\n",
    "                        \"subtransactions\"\n",
    "                    ].apply(lambda x: x[0])\n",
    "                )\n",
    "            ),\n",
    "        ]\n",
    "    )\n",
    "    tran_df = tran_df[tran_df[\"month\"] <= end_date]\n",
    "    return tran_df"
   ]
  },
  {
   "cell_type": "code",
   "execution_count": null,
   "metadata": {},
   "outputs": [],
   "source": [
    "# | export\n",
    "\n",
    "\n",
    "def get_account_balances() -> pd.DataFrame:\n",
    "    \"\"\"Function to get the account balances in YNAB\"\"\"\n",
    "    token = os.environ[\"YNAB_TOKEN\"]\n",
    "    accounts = requests.get(\n",
    "        f\"https://api.youneedabudget.com/v1/budgets/last-used/accounts?access_token={token}\"\n",
    "    )\n",
    "    account_data = pd.DataFrame(json.loads(accounts.content)[\"data\"][\"accounts\"])\n",
    "    active_account_data = account_data.query(\n",
    "        \"closed==False and type!='otherAsset' and on_budget==True\"\n",
    "    )\n",
    "    return active_account_data\n",
    "\n",
    "\n",
    "def get_cash_balance() -> float:\n",
    "    \"\"\"Function to get the total cash balance in YNAB\"\"\"\n",
    "    active_account_data = get_account_balances()\n",
    "    cash = active_account_data.balance.sum() / 1000\n",
    "    return cash\n",
    "\n",
    "\n",
    "def get_budgeted_balance(max_category_balance: int = 50000) -> float:\n",
    "    \"\"\"Function to get the total category balances in YNAB\"\"\"\n",
    "    token = os.environ[\"YNAB_TOKEN\"]\n",
    "    date = datetime.datetime.strftime(datetime.datetime.now(), \"%Y-%m\") + \"-01\"\n",
    "    month = requests.get(\n",
    "        f\"https://api.youneedabudget.com/v1/budgets/last-used/months/{date}?access_token={token}\"\n",
    "    )\n",
    "    category_balances = pd.DataFrame(\n",
    "        json.loads(month.content)[\"data\"][\"month\"][\"categories\"]\n",
    "    )\n",
    "    to_be_budgeted = json.loads(month.content)[\"data\"][\"month\"][\"to_be_budgeted\"] / 1000\n",
    "    current_balance = (\n",
    "        category_balances.query(f\"balance < {max_category_balance * 100}\").balance.sum()\n",
    "        / 1000\n",
    "    )\n",
    "    total_budgeted = current_balance + to_be_budgeted\n",
    "    return total_budgeted"
   ]
  },
  {
   "cell_type": "code",
   "execution_count": null,
   "metadata": {},
   "outputs": [],
   "source": [
    "# | export\n",
    "def get_avg_monthly_spend(\n",
    "    tran_df: pd.DataFrame, essential_categories: List[str]\n",
    ") -> float:\n",
    "    \"\"\"Function to get the average monthly spend for a list of categories.  The\n",
    "    category names must match exactly what is in YNAB\"\"\"\n",
    "    monthly_spending = (\n",
    "        tran_df[tran_df.category_name.isin(essential_categories)]\n",
    "        .query(\"amount<=0 and amount>=-5000\")\n",
    "        .groupby(\"month\")[\"amount\"]\n",
    "        .sum()\n",
    "    )\n",
    "    avg_essential = monthly_spending.mean()\n",
    "    return avg_essential"
   ]
  }
 ],
 "metadata": {},
 "nbformat": 4,
 "nbformat_minor": 2
}
