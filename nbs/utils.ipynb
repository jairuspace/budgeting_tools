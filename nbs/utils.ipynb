{
 "cells": [
  {
   "attachments": {},
   "cell_type": "markdown",
   "metadata": {},
   "source": [
    "# Utils\n",
    "Useful functions that are used across multiple modules."
   ]
  },
  {
   "cell_type": "code",
   "execution_count": null,
   "metadata": {},
   "outputs": [],
   "source": [
    "# | default_exp utils\n"
   ]
  },
  {
   "cell_type": "code",
   "execution_count": null,
   "metadata": {},
   "outputs": [],
   "source": [
    "# | export\n",
    "import datetime\n",
    "import pandas as pd"
   ]
  },
  {
   "cell_type": "code",
   "execution_count": null,
   "metadata": {},
   "outputs": [
    {
     "name": "stdout",
     "output_type": "stream",
     "text": [
      "Today's date: 2023-06-05\n",
      "Shifted date: 2023-07-05\n"
     ]
    }
   ],
   "source": [
    "date = datetime.datetime.now().date()\n",
    "shifted_date = (date + pd.DateOffset(months=1)).date()\n",
    "\n",
    "print(f\"Today's date: {date}\")\n",
    "print(f\"Shifted date: {shifted_date}\")"
   ]
  },
  {
   "cell_type": "code",
   "execution_count": null,
   "metadata": {},
   "outputs": [],
   "source": [
    "# | export\n",
    "def monthdelta(date: datetime.date, delta: int) -> datetime.date:\n",
    "    \"\"\"Function to add/subtract a certain number of months from a given date\n",
    "    eg if it is June I want to go back exactly 3 months\"\"\"\n",
    "    return (date + pd.DateOffset(months=delta)).date()"
   ]
  },
  {
   "cell_type": "code",
   "execution_count": null,
   "metadata": {},
   "outputs": [],
   "source": [
    "assert datetime.date(2019, 11, 1) == monthdelta(datetime.date(2020, 1, 1), -2)\n",
    "assert datetime.date(2020, 9, 1) == monthdelta(datetime.date(2020, 6, 1), 3)"
   ]
  },
  {
   "cell_type": "code",
   "execution_count": null,
   "metadata": {},
   "outputs": [],
   "source": []
  }
 ],
 "metadata": {},
 "nbformat": 4,
 "nbformat_minor": 2
}
